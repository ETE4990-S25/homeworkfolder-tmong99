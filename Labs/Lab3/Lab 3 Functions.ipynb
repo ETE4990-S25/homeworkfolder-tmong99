{
 "cells": [
  {
   "cell_type": "markdown",
   "id": "abfb9ed7-bb94-48c3-88f0-6693f26b3f7c",
   "metadata": {},
   "source": [
    "# Lab 3 - Files and Functions\n"
   ]
  },
  {
   "cell_type": "markdown",
   "id": "5dd841b5-4e31-428c-a56b-5a74f1aa8c75",
   "metadata": {},
   "source": [
    "## Warm-up \n",
    "\n",
    "Part 1:\n",
    "Write a python file that can be imported.\n",
    "\n",
    "\n"
   ]
  },
  {
   "cell_type": "code",
   "execution_count": 1,
   "id": "9916dca4-e082-47ba-957a-d285cd0abce0",
   "metadata": {},
   "outputs": [],
   "source": [
    "# Code goes here"
   ]
  },
  {
   "cell_type": "markdown",
   "id": "5935273d",
   "metadata": {},
   "source": [
    "\n",
    "Part 2: \n",
    "Using the following as a starting point create a python file that will take in a a name and\n",
    "a list of names and tell you if that name is in the list."
   ]
  },
  {
   "cell_type": "code",
   "execution_count": null,
   "id": "64949662",
   "metadata": {},
   "outputs": [],
   "source": [
    "# Code goes here"
   ]
  },
  {
   "cell_type": "markdown",
   "id": "bc4fbb46-483b-479b-97d5-82e2dc7f4346",
   "metadata": {},
   "source": [
    "# Main Lab\n",
    "\n",
    "Take time to begin working with your partner on your project. Begin to plan out how you would like your game to feel. Remember this is a text-based game. This can be any game you would like \n",
    "\n",
    "    Please stay away from games or software like poker or 21 as these tend to be boring to code and hard to add more to later on, and obviously games that may get you reported by the university.\n",
    "\n",
    "\n",
    "## Part 1:\n",
    "\n",
    "Divide up your code and begin  writing the code.\n",
    "\n",
    "Keep in mind that when you write your code you will need to be interfacing with your partners code, loading in your player, tools/items/etc, interfacing with the world, monsters and so on. So plan accordingly.\n",
    "\n",
    "\n",
    "While we have not gotten to classes take some time to try and code some simple classes. \n",
    "Here is an example:\n",
    "```python \n",
    "\n",
    "#Good\n",
    "class Sharps(object):\n",
    "    \"\"\"Create a sharp weapon\"\"\"\n",
    "    def __init__(self, name, length, age=1, damage=0):\n",
    "        \"\"\" Initialize name, age, and length damage attributes.\"\"\"\n",
    "        self.name = name\n",
    "        self.age = age\n",
    "        self.length = length\n",
    "        self.damage = damage\n",
    "    def do_damage(self, target):\n",
    "        target = target - self.damage\n",
    "\n",
    "class dager(Sharps):\n",
    "    \"\"\" makes a dager\"\"\"\n",
    "    def __init__(self, name, length, age=1, damage=0):\n",
    "        \"\"\"sets up a dagger\"\"\"\n",
    "        super().__init__(self, name, length, age, damage))\n",
    "        self.poision = True\n",
    "```\n",
    "        \n",
    "\n"
   ]
  },
  {
   "cell_type": "markdown",
   "id": "73b92c92",
   "metadata": {},
   "source": []
  }
 ],
 "metadata": {
  "kernelspec": {
   "display_name": "Python 3 (ipykernel)",
   "language": "python",
   "name": "python3"
  },
  "language_info": {
   "codemirror_mode": {
    "name": "ipython",
    "version": 3
   },
   "file_extension": ".py",
   "mimetype": "text/x-python",
   "name": "python",
   "nbconvert_exporter": "python",
   "pygments_lexer": "ipython3",
   "version": "3.11.11"
  }
 },
 "nbformat": 4,
 "nbformat_minor": 5
}
