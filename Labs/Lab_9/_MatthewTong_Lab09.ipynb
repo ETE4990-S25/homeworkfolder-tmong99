{
 "cells": [
  {
   "cell_type": "code",
   "execution_count": null,
   "id": "41b0ed72",
   "metadata": {},
   "outputs": [],
   "source": [
    "#Matthew Tong Lab 9\n"
   ]
  }
 ],
 "metadata": {
  "language_info": {
   "name": "python"
  }
 },
 "nbformat": 4,
 "nbformat_minor": 5
}
