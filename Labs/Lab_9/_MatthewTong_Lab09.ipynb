{
 "cells": [
  {
   "cell_type": "code",
   "execution_count": 1,
   "id": "41b0ed72",
   "metadata": {},
   "outputs": [
    {
     "name": "stderr",
     "output_type": "stream",
     "text": [
      "2025-04-11 22:02:16,797 : ERROR : error\n",
      "2025-04-11 22:02:16,799 : ERROR : exp\n",
      "NoneType: None\n"
     ]
    }
   ],
   "source": [
    "# Matthew Tong Lab 9\n",
    "import logging\n",
    "import logging.handlers\n",
    "from datetime import datetime\n",
    "\n",
    "# stream handler\n",
    "stream_handler = logging.StreamHandler()\n",
    "stream_handler.setLevel(logging.INFO)\n",
    "\n",
    "# Configure Logging\n",
    "logging.basicConfig(\n",
    "    filename = 'sample.log',\n",
    "    format = '%(asctime)s | %(levelname)s | %(filename)s | %(message)s',\n",
    "    level = logging.INFO\n",
    ")\n",
    "\n",
    "# Console Logging\n",
    "console = logging.StreamHandler()\n",
    "console.setLevel(logging.ERROR)\n",
    "\n",
    "formatter = logging.Formatter('%(asctime)s : %(levelname)s : %(message)s')\n",
    "console.setFormatter(formatter)\n",
    "logging.getLogger(\"\").addHandler(console)\n",
    "\n",
    "logging.debug('debug')\n",
    "logging.info('info')\n",
    "logging.warning('warning')\n",
    "logging.error('error')\n",
    "logging.exception('exp')\n",
    "\n",
    "\n",
    "\n"
   ]
  }
 ],
 "metadata": {
  "kernelspec": {
   "display_name": "base",
   "language": "python",
   "name": "python3"
  },
  "language_info": {
   "codemirror_mode": {
    "name": "ipython",
    "version": 3
   },
   "file_extension": ".py",
   "mimetype": "text/x-python",
   "name": "python",
   "nbconvert_exporter": "python",
   "pygments_lexer": "ipython3",
   "version": "3.12.7"
  }
 },
 "nbformat": 4,
 "nbformat_minor": 5
}
