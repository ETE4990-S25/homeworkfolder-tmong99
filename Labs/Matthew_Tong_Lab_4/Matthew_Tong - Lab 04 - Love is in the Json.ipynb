{
 "cells": [
  {
   "cell_type": "markdown",
   "metadata": {},
   "source": [
    "# Valentine's Day Lab Assignment\n",
    "Picking a Romantic Movie\n",
    "\n",
    "## Instructions:\n",
    "1. Download a dataset of romantic movies from a public dataset repository (e.g., Kaggle).\n",
    "   - Example dataset: \"Romantic Movies Dataset\" (ensure it's in JSON format).\n",
    "2. Load the dataset from the JSON file.\n",
    "3. Create a function that helps pick a romantic movie based on user preferences.\n",
    "4. Display the selected movie details.\n",
    "5. Verify the JSON file content\n",
    "\n"
   ]
  },
  {
   "cell_type": "code",
   "execution_count": null,
   "metadata": {},
   "outputs": [],
   "source": [
    "# Sample Code:\n",
    "min_rating = float(input(\"Enter the minimum rating (0-10): \"))\n",
    "max_year = int(input(\"Enter the latest release year: \"))\n",
    "\n",
    "selected_movie = pick_movie(data, min_rating, max_year)\n",
    "\n",
    "if isinstance(selected_movie, str):\n",
    "    print(selected_movie)\n",
    "else:\n",
    "    print(f\"Selected Movie: {selected_movie['Title']}\")\n",
    "    print(f\"Year: {selected_movie['Year']}\")\n",
    "    print(f\"Rating: {selected_movie['Rating']}\")\n",
    "    print(f\"Box Office: ${selected_movie['BoxOffice']} million\")"
   ]
  },
  {
   "cell_type": "code",
   "execution_count": null,
   "metadata": {},
   "outputs": [],
   "source": [
    "import json\n",
    "\n",
    "with open('movies.json', 'r') as file:\n",
    "    movies_data = json.load(file)       # load the movies.json file\n",
    "\n",
    "for movie in movies_data:\n",
    "    title = movie ['title']\n",
    "    directors = movie['directors']\n",
    "    runtime = movie['runtime']\n",
    "    year = movie['year']\n",
    "    genres = movie['genres']\n",
    "\n",
    "    print(f\"Title: {title}\")\n",
    "    print(f\"Directors: {', '.join(directors)}\")\n",
    "    print(f\"Runtime: {runtime} minutes\")\n",
    "    print(f\"Year: {year}\")\n",
    "    print(f\"Genres: {', '.join(genres)}\")\n",
    "    print(\"-\" * 20)"
   ]
  },
  {
   "cell_type": "code",
   "execution_count": null,
   "metadata": {},
   "outputs": [
    {
     "name": "stdout",
     "output_type": "stream",
     "text": [
      "movies from 2015:\n",
      "Title: Inside Out, Directors: Pete Docter,  Ronnie Del Carmen\n",
      "Title: Mad Max: Fury Road, Directors: George Miller\n"
     ]
    }
   ],
   "source": [
    "import json\n",
    "\n",
    "def pick_movie(movies_data, criterion, value):\n",
    "    \"\"\"\n",
    "    Picks a movie based on the search criterion such as year, genre or director\n",
    "    \"\"\"\n",
    "\n",
    "    matching_movies = []\n",
    "\n",
    "    for movie in movies_data:\n",
    "        if criterion == 'year' and movie['year'] == value:\n",
    "            matching_movies.append(movie)\n",
    "        elif criterion == 'genre' and value in movie['genres']:\n",
    "            matching_movies.append(movie)\n",
    "        elif criterion == 'director' and value in movie['directors']:\n",
    "            matching_movies.append(movie)\n",
    "    \n",
    "    return matching_movies\n",
    "\n",
    "if __name__ == \"__main__\":\n",
    "    with open('movies.json', 'r') as file:\n",
    "        movies_data = json.load(file)\n",
    "    \n",
    "    year = str(input(\"Enter the release year\"))\n",
    "    movies_year = pick_movie(movies_data, 'year', year)\n",
    "\n",
    "    print(f\"movies from {year}:\")\n",
    "    for movie in movies_year:\n",
    "        print(f\"Title: {movie['title']}, Directors: {', '.join(movie['directors'])}\")\n",
    "        "
   ]
  },
  {
   "cell_type": "code",
   "execution_count": 12,
   "metadata": {},
   "outputs": [
    {
     "name": "stdout",
     "output_type": "stream",
     "text": [
      "The file contains valid JSON.\n",
      "File not found: movie.json\n",
      "The file is not valid JSON\n"
     ]
    }
   ],
   "source": [
    "import json\n",
    "\n",
    "def is_valid_json(file_path):\n",
    "    \"\"\"\n",
    "    Checks if a file contains valid JSON\n",
    "    \"\"\"\n",
    "\n",
    "    try:\n",
    "        with open (file_path, 'r') as file:\n",
    "            json.load(file)                 # attempt to load the JSON file\n",
    "        return True\n",
    "    except json.JSONDecodeError as e:\n",
    "        print(f\"Invalid JSON: {e}\")\n",
    "        return False\n",
    "    except FileNotFoundError:\n",
    "        print(f\"File not found: {file_path}\")\n",
    "        return False\n",
    "\n",
    "file_path = 'movies.json'\n",
    "if is_valid_json(file_path):\n",
    "    print(\"The file contains valid JSON.\")\n",
    "else:\n",
    "    print(\"The file is not valid JSON\")\n",
    "\n",
    "file_path = 'movie.json'\n",
    "if is_valid_json(file_path):\n",
    "    print(\"The file contains valid JSON.\")\n",
    "else:\n",
    "    print(\"The file is not valid JSON\")\n"
   ]
  }
 ],
 "metadata": {
  "kernelspec": {
   "display_name": "base",
   "language": "python",
   "name": "python3"
  },
  "language_info": {
   "codemirror_mode": {
    "name": "ipython",
    "version": 3
   },
   "file_extension": ".py",
   "mimetype": "text/x-python",
   "name": "python",
   "nbconvert_exporter": "python",
   "pygments_lexer": "ipython3",
   "version": "3.12.7"
  }
 },
 "nbformat": 4,
 "nbformat_minor": 2
}
