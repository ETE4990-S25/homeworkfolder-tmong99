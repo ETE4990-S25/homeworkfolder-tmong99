{
 "cells": [
  {
   "cell_type": "markdown",
   "id": "21c6150b-c2f3-4659-9561-af7f65d461b1",
   "metadata": {},
   "source": [
    "# Homework #2\n",
    "\n",
    "## Create a Farm\n",
    "\n",
    "Old McDonald is dyslexic OIEIE...\n",
    "Please help on his farm, please... \n",
    "\n",
    "Your goal is to categorize all of his animals into groups.\n",
    "example:\n",
    "- pigs are useful for there meat, skin and help improve the soil and biodiversity\n",
    "\n",
    "Create classes for all of his different types of animals \n",
    "You should have at least 5 animals on the farm ie. cows, pigs, dogs, goats \n",
    "\n",
    "VERY Poorly written example \n",
    "\n",
    "```python\n",
    "class Animals (self):\n",
    "    self.name = name\n",
    "    self.age = age\n",
    "\n",
    "class Pets(Animals):\n",
    "    self.friend = True\n",
    "    self.eat = False\n",
    "\n",
    "class Farm (Animals):\n",
    "    self.eat = True #will it be sold for food\n",
    "    self.leather = True #will it be sold for leather\n",
    "    self.helper = False #will it be used to say plow a field\n",
    "    self.soil = True #Will it be used to help the soil\n",
    "\n",
    "class Dog(Pets)\n",
    "    self.good_boy = True\n",
    "    self.type = \"type of dog\"\n",
    "listOfAnimals = [Dog()]\n",
    "```\n",
    "\n",
    "\n",
    "Your program should have an input and output allowing the user to add and remove animals. \n",
    "\n",
    "Love you !"
   ]
  },
  {
   "cell_type": "code",
   "execution_count": 2,
   "id": "bee751a0",
   "metadata": {},
   "outputs": [],
   "source": [
    "class Animal:\n",
    "    def __init__(self, name, age):\n",
    "        self.name = name\n",
    "        self.age = age"
   ]
  },
  {
   "cell_type": "code",
   "execution_count": null,
   "id": "722028a4",
   "metadata": {},
   "outputs": [],
   "source": [
    "\n",
    "class Pet(Animal):\n",
    "    def __init__(self, name, age):\n",
    "       super().__init__(name, age)\n",
    "\n",
    "class Cat(Pet):\n",
    "    def __init__(self, name, age, breed, color):\n",
    "        super().__init__(name, age)\n",
    "        self.__friendly = False\n",
    "        self.breed = breed\n",
    "        self.color = color\n",
    "    \n",
    "    def feed(self):\n",
    "        if not self.__friendly:\n",
    "            self.__friendly = True\n",
    "\n",
    "    def speak(self):\n",
    "        if self.__friendly:\n",
    "            print(f\"{self.name} meows\")\n",
    "        else:\n",
    "            print(f\"{self.name} scratches you\")\n",
    "\n",
    "class Dog(Pet):\n",
    "    def __init__(self, name, age, breed, color):\n",
    "        super().__init__(name, age)\n",
    "        self.__friendly = True\n",
    "        self.breed = breed\n",
    "        self.color = color\n",
    "    \n",
    "    def speak(self):\n",
    "        print(f\"{self.name} barks\")\n",
    "\n",
    "        "
   ]
  },
  {
   "cell_type": "code",
   "execution_count": 7,
   "id": "97ef81eb",
   "metadata": {},
   "outputs": [],
   "source": [
    "class Livestock(Animal):\n",
    "    def __init__(self, name, age, food, meat, resource):\n",
    "        super().__init__(name, age)\n",
    "        self.food = food\n",
    "        self.meat = meat\n",
    "        self.resource = resource\n",
    "    \n",
    "\n",
    "class Chicken(Livestock):\n",
    "    def __init__(self, name, age):\n",
    "        super().__init__(name, age)\n",
    "        self._food = True\n",
    "        self._meat = \"poultry\"\n",
    "        self._resource = \"feathers\"\n",
    "\n",
    "class Cow(Livestock):\n",
    "    def __init__(self, name, age):\n",
    "        super().__init__(name, age)\n",
    "        self._food = True\n",
    "        self._meat = \"beef\"\n",
    "        self._resource = \"milk\"\n",
    "\n",
    "class Sheep(Livestock):\n",
    "    def __init__(self, name, age):\n",
    "        super().__init__(name, age)\n",
    "        self.food = False\n",
    "        self._meat = \"mutton\"\n",
    "        self._resource = \"wool\"\n"
   ]
  },
  {
   "cell_type": "code",
   "execution_count": null,
   "id": "5b03f664",
   "metadata": {},
   "outputs": [
    {
     "name": "stdout",
     "output_type": "stream",
     "text": [
      "Fido barks\n",
      "Sock meows\n"
     ]
    }
   ],
   "source": [
    "my_dog = Dog(\"Fido\", \"7\", \"Golden Retriever\", \"brown\")\n",
    "\n",
    "my_dog.speak()\n",
    "\n",
    "my_cat = Cat(\"Sock\", \"7\", \"Persian\", \"white\")\n",
    "\n",
    "my_cat.feed() \n",
    "my_cat.speak() # cat only speaks once fed, otherwise it scratches you"
   ]
  }
 ],
 "metadata": {
  "kernelspec": {
   "display_name": "base",
   "language": "python",
   "name": "python3"
  },
  "language_info": {
   "codemirror_mode": {
    "name": "ipython",
    "version": 3
   },
   "file_extension": ".py",
   "mimetype": "text/x-python",
   "name": "python",
   "nbconvert_exporter": "python",
   "pygments_lexer": "ipython3",
   "version": "3.12.7"
  }
 },
 "nbformat": 4,
 "nbformat_minor": 5
}
