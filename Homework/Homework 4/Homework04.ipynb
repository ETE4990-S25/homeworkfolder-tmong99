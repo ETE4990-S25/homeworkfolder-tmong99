{
 "cells": [
  {
   "cell_type": "markdown",
   "id": "94336058-4ebc-4a98-9a56-de67b67d5ce5",
   "metadata": {},
   "source": [
    "# Homework #4\n",
    "\n",
    "Develop a function named decode(message_file). \n",
    "\n",
    "This function should read an encoded message from a .txt file and return its decoded version as a string.\n",
    "\n",
    "Your function must be able to process an input file with the following format:\n",
    "\n",
    "```\n",
    "3 love\n",
    "6 computers\n",
    "2 dogs\n",
    "4 cats\n",
    "1 I\n",
    "5 you\n",
    "```\n",
    "\n",
    "In this file, each line contains a number followed by a word. The task is to decode a hidden message based on the arrangement of these numbers into a \"pyramid\" structure. The numbers are placed into the pyramid in ascending order, with each line of the pyramid having one more number than the line above it. The smallest number is 1, and the numbers increase consecutively, like so:\n",
    "\n",
    "```\n",
    "   1\n",
    "  2 3\n",
    " 4 5 6\n",
    "7 8 9 10\n",
    "```\n",
    "\n",
    "The key to decoding the message is to use the words corresponding to the numbers at the end of each pyramid line (in this example, 1, 3, and 6). You should ignore all the other words. So for the example input file above, the message words are:\n",
    "\n",
    "```\n",
    "1: I\n",
    "3: love\n",
    "6: computers\n",
    "```\n",
    "and your function should return the string \"I love computers\".\n",
    "\n"
   ]
  },
  {
   "cell_type": "code",
   "execution_count": null,
   "id": "2532f781-eb6b-4dcc-aad7-b1463a8f51a6",
   "metadata": {},
   "outputs": [
    {
     "name": "stdout",
     "output_type": "stream",
     "text": [
      "I love computers\n",
      "design all your life so that with all the problems in a day can be solved by a system you have in place today\n"
     ]
    }
   ],
   "source": [
    "#Code goes here\n",
    "\n",
    "def decode(message_file):\n",
    "    \"\"\"\n",
    "    Enter a text file into the pyramid decoder to output the decoded message!\n",
    "    \"\"\"\n",
    "    #read the message file\n",
    "    with open(message_file, 'r') as file:\n",
    "        message_lines = file.readlines()  # returns a list of all the lines of the text file\n",
    "    \n",
    "    # Map words to numbers using a dictionary\n",
    "    num_words = {}\n",
    "    for line in message_lines:\n",
    "        num, word = line.strip().split()  # Strips the lines of spaces + splits the number from the associated word\n",
    "        num_words[int(num)] = word        # Assigns the key num to the word in the dictionary\n",
    "\n",
    "    # sort into ascending order\n",
    "    num_sort = sorted(num_words.keys())   # Sorts the dictionary by its keys\n",
    "\n",
    "    # Determine end of the line numbers\n",
    "    line_end_nums = []\n",
    "    current_num = 1\n",
    "    line_size = 1\n",
    "    while current_num <= num_sort[-1]:    # current num is less than the largest num\n",
    "        line_end_nums.append(current_num) # Add the current number to the list of end of the line numbers\n",
    "        line_size += 1                    # Increase the line size by one (pyramid)\n",
    "        current_num += line_size          # \n",
    "    \n",
    "    # replace the numbers with the corresponding words\n",
    "    word_sort = [num_words[num] for num in line_end_nums if num in num_words]\n",
    "\n",
    "    # Append the words to the decoded message\n",
    "    decoded_message = ' '.join(word_sort)\n",
    "\n",
    "    return decoded_message\n",
    "\n",
    "message = decode('Message.txt')\n",
    "print(message)\n",
    "\n",
    "message2 = decode('SecretMessage.txt')\n",
    "print(message2)\n",
    "\n",
    "\"\"\"\n",
    "1                         # Line Size = 1, Current number = 1\n",
    "2 3                       # Line Size = 2, Current number = 3\n",
    "4 5 6                     # Line Size = 3, Current number = 6\n",
    "7 8 9 10                  # Line Size = 4, Current number = 10\n",
    "11 12 13 14 15            # Line Size = 5, Current number = 15\n",
    "16 17 18 19 20 21         # Line Size = 6, Current number = 21\n",
    "22 23 24 25 26 27 28      # Line Size = 7, Current number = 28\n",
    "\"\"\""
   ]
  }
 ],
 "metadata": {
  "kernelspec": {
   "display_name": "Python 3",
   "language": "python",
   "name": "python3"
  },
  "language_info": {
   "codemirror_mode": {
    "name": "ipython",
    "version": 3
   },
   "file_extension": ".py",
   "mimetype": "text/x-python",
   "name": "python",
   "nbconvert_exporter": "python",
   "pygments_lexer": "ipython3",
   "version": "3.13.2"
  }
 },
 "nbformat": 4,
 "nbformat_minor": 5
}
