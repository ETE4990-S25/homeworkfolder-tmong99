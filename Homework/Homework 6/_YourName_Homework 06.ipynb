{
 "cells": [
  {
   "cell_type": "markdown",
   "metadata": {},
   "source": [
    "Your name goes here Pleaese"
   ]
  },
  {
   "cell_type": "markdown",
   "metadata": {},
   "source": [
    "## Objective:\n",
    "The objective of this assignment is to practice using Functional Programing.\n",
    "\n",
    "## Instructions:\n",
    "\n",
    "Using everything we learned to day about Functional Programing, lambda and itters create one of each of the following:\n",
    "-  Basic Lambda Function\n",
    "    - Create a lambda function that takes one arguments and returns even or odd.\n",
    "- Advanced lambda Function\n",
    "    - Create a lambda function that takes a list and returns their sum \n",
    "- Sorting with Lambda\n",
    "- Filtering with Lambda - `filter()` \n",
    "- Mapping with Lambda - `map()`\n",
    "- Reducing with Lambda -  `reduce()` \n",
    "- Enumerate with or without Lambda - `enumerate()`\n",
    "- zip with or without lambda (may combine enumerate like in class) - `zip()`\n",
    "\n",
    "Submit the file as a .py \n",
    "\n",
    "\n"
   ]
  },
  {
   "cell_type": "markdown",
   "metadata": {},
   "source": []
  },
  {
   "cell_type": "code",
   "execution_count": null,
   "metadata": {},
   "outputs": [
    {
     "name": "stdout",
     "output_type": "stream",
     "text": [
      "even\n",
      "odd\n",
      "odd\n"
     ]
    }
   ],
   "source": [
    "# Lambda function to determine if a number is even or odd\n",
    "even_or_odd = lambda x: \"even\" if x % 2 == 0 else \"odd\"\n",
    "\n",
    "print(even_or_odd(6)) # even number\n",
    "print(even_or_odd(7)) # odd number\n",
    "print(even_or_odd(int(input(\"Enter a number to determine even or odd\"))))"
   ]
  },
  {
   "cell_type": "code",
   "execution_count": null,
   "metadata": {},
   "outputs": [
    {
     "name": "stdout",
     "output_type": "stream",
     "text": [
      "28\n"
     ]
    }
   ],
   "source": [
    "# lambda function to sum a list of numbers using reduce()\n",
    "from functools import reduce\n",
    "\n",
    "sum_list = lambda lst: reduce(lambda x, y: x + y, lst) # reduce adds the items of the list cumulatively\n",
    "\n",
    "num_list = [1, 2, 3, 4, 5, 6, 7]\n",
    "\n",
    "sum = sum_list(num_list)\n",
    "\n",
    "print(sum)"
   ]
  },
  {
   "cell_type": "code",
   "execution_count": 10,
   "metadata": {},
   "outputs": [
    {
     "name": "stdout",
     "output_type": "stream",
     "text": [
      "[1, 2, 3, 4, 5, 6, 7, 8, 9, 10]\n"
     ]
    }
   ],
   "source": [
    "# Lambda Function to Sort a List of Numbers\n",
    "num_list = [4, 6, 9, 5, 8, 1, 7, 3, 2, 10]\n",
    "\n",
    "sorted_list = sorted(num_list, key = lambda x : x)\n",
    "\n",
    "print(sorted_list)"
   ]
  },
  {
   "cell_type": "code",
   "execution_count": 9,
   "metadata": {},
   "outputs": [
    {
     "name": "stdout",
     "output_type": "stream",
     "text": [
      "[4, 6, 8, 2, 10]\n"
     ]
    }
   ],
   "source": [
    "# Lambda function to filter the even functions from the list\n",
    "num_list = [4, 6, 9, 5, 8, 1, 7, 3, 2, 10]\n",
    "\n",
    "even_numbers = list(filter(lambda x : x % 2 == 0, num_list))\n",
    "\n",
    "print(even_numbers)"
   ]
  },
  {
   "cell_type": "code",
   "execution_count": 11,
   "metadata": {},
   "outputs": [
    {
     "name": "stdout",
     "output_type": "stream",
     "text": [
      "[1, 4, 9, 16, 25, 36, 49, 64, 81, 100]\n"
     ]
    }
   ],
   "source": [
    "# Lambda function to square list contents using map()\n",
    "num_list = [1, 2, 3, 4, 5, 6, 7, 8, 9, 10]\n",
    "\n",
    "square_num = list(map(lambda x : x ** 2, num_list))\n",
    "\n",
    "print(square_num)\n"
   ]
  },
  {
   "cell_type": "code",
   "execution_count": null,
   "metadata": {},
   "outputs": [
    {
     "name": "stdout",
     "output_type": "stream",
     "text": [
      "{0: 'apples', 1: 'bananas', 2: 'oranges'}\n"
     ]
    }
   ],
   "source": [
    "# Lambda function to create a dictionary from a list\n",
    "\n",
    "fruits = ['apples', 'bananas', 'oranges']\n",
    "\n",
    "# enumerate the map by assigning x[0] to the index and x[1] to the value\n",
    "fruits_dict = dict(map(lambda x : (x[0], x[1]), enumerate(fruits))) \n",
    "\n",
    "print(fruits_dict)"
   ]
  },
  {
   "cell_type": "code",
   "execution_count": 14,
   "metadata": {},
   "outputs": [
    {
     "name": "stdout",
     "output_type": "stream",
     "text": [
      "['Andrew Johnson', 'Bob Smith', 'Nate Thompson']\n"
     ]
    }
   ],
   "source": [
    "# Lambda function to concatenate the string values from 2 lists\n",
    "\n",
    "first_name = ['Andrew', 'Bob', 'Nate']\n",
    "last_name = ['Johnson', 'Smith', 'Thompson']\n",
    "\n",
    "full_name = list(map(lambda x : f\"{x[0]} {x[1]}\", zip(first_name, last_name)))\n",
    "\n",
    "print(full_name)"
   ]
  }
 ],
 "metadata": {
  "kernelspec": {
   "display_name": "base",
   "language": "python",
   "name": "python3"
  },
  "language_info": {
   "codemirror_mode": {
    "name": "ipython",
    "version": 3
   },
   "file_extension": ".py",
   "mimetype": "text/x-python",
   "name": "python",
   "nbconvert_exporter": "python",
   "pygments_lexer": "ipython3",
   "version": "3.12.7"
  }
 },
 "nbformat": 4,
 "nbformat_minor": 2
}
