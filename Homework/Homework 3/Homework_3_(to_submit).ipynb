{
 "cells": [
  {
   "cell_type": "code",
   "execution_count": 3,
   "metadata": {},
   "outputs": [
    {
     "name": "stdout",
     "output_type": "stream",
     "text": [
      "Data for Jim has been saved.\n",
      "Data for Nate has been saved.\n"
     ]
    }
   ],
   "source": [
    "from data_classes import *\n",
    "\n",
    "file_name = \"student_data.json\"\n",
    "\n",
    "\n",
    "Jim = Student(\"Jim\", 20, \"Jim_is_cool@gmail.com\", \"12345\")\n",
    "\n",
    "Nate = Student(\"Nate\", 21, \"Nate_is_cool@gmail.com\", \"12346\")\n",
    "\n",
    "Student.save_to_json(Jim)\n",
    "Student.save_to_json(Nate)"
   ]
  }
 ],
 "metadata": {
  "kernelspec": {
   "display_name": "base",
   "language": "python",
   "name": "python3"
  },
  "language_info": {
   "codemirror_mode": {
    "name": "ipython",
    "version": 3
   },
   "file_extension": ".py",
   "mimetype": "text/x-python",
   "name": "python",
   "nbconvert_exporter": "python",
   "pygments_lexer": "ipython3",
   "version": "3.12.7"
  }
 },
 "nbformat": 4,
 "nbformat_minor": 2
}
