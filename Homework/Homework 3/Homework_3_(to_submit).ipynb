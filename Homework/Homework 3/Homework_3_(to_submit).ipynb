{
 "cells": [
  {
   "cell_type": "code",
   "execution_count": 1,
   "metadata": {},
   "outputs": [],
   "source": [
    "from data_classes import *\n",
    "\n",
    "Jim = Student(\"Jim\", \"25\", \"Jim_is_cool@gmail.com\", \"12345\")\n",
    "\n",
    "Jim.write_dict()\n",
    "\n",
    "Jim.save_to_json(\"student_data.json\")\n"
   ]
  }
 ],
 "metadata": {
  "kernelspec": {
   "display_name": "base",
   "language": "python",
   "name": "python3"
  },
  "language_info": {
   "codemirror_mode": {
    "name": "ipython",
    "version": 3
   },
   "file_extension": ".py",
   "mimetype": "text/x-python",
   "name": "python",
   "nbconvert_exporter": "python",
   "pygments_lexer": "ipython3",
   "version": "3.12.7"
  }
 },
 "nbformat": 4,
 "nbformat_minor": 2
}
