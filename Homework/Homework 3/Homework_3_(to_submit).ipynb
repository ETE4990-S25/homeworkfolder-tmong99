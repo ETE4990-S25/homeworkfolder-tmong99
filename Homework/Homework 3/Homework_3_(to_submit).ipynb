{
 "cells": [
  {
   "cell_type": "code",
   "execution_count": 2,
   "metadata": {},
   "outputs": [
    {
     "name": "stdout",
     "output_type": "stream",
     "text": [
      "Data saved to student_data.json\n"
     ]
    }
   ],
   "source": [
    "from data_classes import *\n",
    "\n",
    "file_name = \"student_data.json\"\n",
    "\n",
    "\n",
    "Jim = Student(\"Jim\", 20, \"Jim_is_cool@gmail.com\", \"12345\")\n",
    "\n",
    "Jim.save_to_json(file_name)"
   ]
  }
 ],
 "metadata": {
  "kernelspec": {
   "display_name": "base",
   "language": "python",
   "name": "python3"
  },
  "language_info": {
   "codemirror_mode": {
    "name": "ipython",
    "version": 3
   },
   "file_extension": ".py",
   "mimetype": "text/x-python",
   "name": "python",
   "nbconvert_exporter": "python",
   "pygments_lexer": "ipython3",
   "version": "3.12.7"
  }
 },
 "nbformat": 4,
 "nbformat_minor": 2
}
